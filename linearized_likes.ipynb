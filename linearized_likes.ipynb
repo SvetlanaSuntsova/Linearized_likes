{
 "cells": [
  {
   "cell_type": "markdown",
   "id": "b1221937-e446-4cdd-8ac9-800c18b3ab0c",
   "metadata": {},
   "source": [
    "#### Проведем A/B тест, используя метод линеаризации. \n",
    "###### Считаем общий CTR в контрольной группе  𝐶𝑇𝑅𝑐𝑜𝑛𝑡𝑟𝑜𝑙=𝑠𝑢𝑚(𝑙𝑖𝑘𝑒𝑠)/𝑠𝑢𝑚(𝑣𝑖𝑒𝑤𝑠) \n",
    "##### Посчитаем в обеих группах поюзерную метрику  𝑙𝑖𝑛𝑒𝑎𝑟𝑖𝑧𝑒𝑑_𝑙𝑖𝑘𝑒𝑠=𝑙𝑖𝑘𝑒𝑠−𝐶𝑇𝑅𝑐𝑜𝑛𝑡𝑟𝑜𝑙∗𝑣𝑖𝑒𝑤𝑠 \n",
    "##### После чего сравним  t-тестом отличия в группах по метрике 𝑙𝑖𝑛𝑒𝑎𝑟𝑖𝑧𝑒𝑑_𝑙𝑖𝑘𝑒𝑠"
   ]
  },
  {
   "cell_type": "code",
   "execution_count": 1,
   "id": "c12a7d3a-1a34-4fb7-aabb-ef9380e94d53",
   "metadata": {},
   "outputs": [],
   "source": [
    "# Подключаемся в БД.\n",
    "connection = {'host': 'https://clickhouse.lab.karpov.courses',\n",
    "'database':'simulator_20231220',\n",
    "'user':'student',\n",
    "'password':'dpo_python_2020'\n",
    "}"
   ]
  },
  {
   "cell_type": "code",
   "execution_count": 2,
   "id": "895346c7-8357-405b-8a29-ce6545ef537a",
   "metadata": {},
   "outputs": [],
   "source": [
    "# Загружаем библиотеки и модули.\n",
    "import pandas as pd\n",
    "import pandahouse as ph\n",
    "import seaborn as sns\n",
    "import matplotlib.pyplot as plt\n",
    "import numpy as np\n",
    "import hashlib\n",
    "import swifter\n",
    "from scipy import stats\n",
    "%matplotlib inline"
   ]
  },
  {
   "cell_type": "markdown",
   "id": "a518348d-d797-4679-84ca-fcc7518d48fb",
   "metadata": {},
   "source": [
    "###### Сравниеваем группы 0 и 3."
   ]
  },
  {
   "cell_type": "code",
   "execution_count": 3,
   "id": "2ab3259d-9253-480c-98a2-1968a638db3f",
   "metadata": {},
   "outputs": [],
   "source": [
    "# Выгружаем данные из БД.\n",
    "q = '''\n",
    "select  exp_group, \n",
    "    user_id,\n",
    "    sum(action = 'like') as likes,\n",
    "    sum(action = 'view') as views,\n",
    "    likes/views as ctr\n",
    "from {db}.feed_actions\n",
    "where toDate(time) >= '2023-11-18' and toDate(time) <= '2023-11-24' and  exp_group in (0,3)\n",
    "GROUP BY exp_group, user_id\n",
    "'''\n",
    "df = ph.read_clickhouse(q, connection=connection)"
   ]
  },
  {
   "cell_type": "code",
   "execution_count": 4,
   "id": "ecd76cd4-833e-4d6e-90ef-4549bd73627f",
   "metadata": {},
   "outputs": [
    {
     "data": {
      "text/html": [
       "<div>\n",
       "<style scoped>\n",
       "    .dataframe tbody tr th:only-of-type {\n",
       "        vertical-align: middle;\n",
       "    }\n",
       "\n",
       "    .dataframe tbody tr th {\n",
       "        vertical-align: top;\n",
       "    }\n",
       "\n",
       "    .dataframe thead th {\n",
       "        text-align: right;\n",
       "    }\n",
       "</style>\n",
       "<table border=\"1\" class=\"dataframe\">\n",
       "  <thead>\n",
       "    <tr style=\"text-align: right;\">\n",
       "      <th></th>\n",
       "      <th>exp_group</th>\n",
       "      <th>user_id</th>\n",
       "      <th>likes</th>\n",
       "      <th>views</th>\n",
       "      <th>ctr</th>\n",
       "    </tr>\n",
       "  </thead>\n",
       "  <tbody>\n",
       "    <tr>\n",
       "      <th>0</th>\n",
       "      <td>3</td>\n",
       "      <td>115383</td>\n",
       "      <td>12</td>\n",
       "      <td>44</td>\n",
       "      <td>0.272727</td>\n",
       "    </tr>\n",
       "    <tr>\n",
       "      <th>1</th>\n",
       "      <td>3</td>\n",
       "      <td>123580</td>\n",
       "      <td>2</td>\n",
       "      <td>11</td>\n",
       "      <td>0.181818</td>\n",
       "    </tr>\n",
       "    <tr>\n",
       "      <th>2</th>\n",
       "      <td>0</td>\n",
       "      <td>4944</td>\n",
       "      <td>8</td>\n",
       "      <td>41</td>\n",
       "      <td>0.195122</td>\n",
       "    </tr>\n",
       "    <tr>\n",
       "      <th>3</th>\n",
       "      <td>0</td>\n",
       "      <td>4504</td>\n",
       "      <td>5</td>\n",
       "      <td>15</td>\n",
       "      <td>0.333333</td>\n",
       "    </tr>\n",
       "    <tr>\n",
       "      <th>4</th>\n",
       "      <td>0</td>\n",
       "      <td>121508</td>\n",
       "      <td>6</td>\n",
       "      <td>25</td>\n",
       "      <td>0.240000</td>\n",
       "    </tr>\n",
       "    <tr>\n",
       "      <th>...</th>\n",
       "      <td>...</td>\n",
       "      <td>...</td>\n",
       "      <td>...</td>\n",
       "      <td>...</td>\n",
       "      <td>...</td>\n",
       "    </tr>\n",
       "    <tr>\n",
       "      <th>19917</th>\n",
       "      <td>3</td>\n",
       "      <td>13781</td>\n",
       "      <td>10</td>\n",
       "      <td>27</td>\n",
       "      <td>0.370370</td>\n",
       "    </tr>\n",
       "    <tr>\n",
       "      <th>19918</th>\n",
       "      <td>3</td>\n",
       "      <td>130651</td>\n",
       "      <td>18</td>\n",
       "      <td>98</td>\n",
       "      <td>0.183673</td>\n",
       "    </tr>\n",
       "    <tr>\n",
       "      <th>19919</th>\n",
       "      <td>0</td>\n",
       "      <td>3681</td>\n",
       "      <td>7</td>\n",
       "      <td>55</td>\n",
       "      <td>0.127273</td>\n",
       "    </tr>\n",
       "    <tr>\n",
       "      <th>19920</th>\n",
       "      <td>3</td>\n",
       "      <td>122008</td>\n",
       "      <td>5</td>\n",
       "      <td>41</td>\n",
       "      <td>0.121951</td>\n",
       "    </tr>\n",
       "    <tr>\n",
       "      <th>19921</th>\n",
       "      <td>3</td>\n",
       "      <td>122190</td>\n",
       "      <td>19</td>\n",
       "      <td>65</td>\n",
       "      <td>0.292308</td>\n",
       "    </tr>\n",
       "  </tbody>\n",
       "</table>\n",
       "<p>19922 rows × 5 columns</p>\n",
       "</div>"
      ],
      "text/plain": [
       "       exp_group  user_id  likes  views       ctr\n",
       "0              3   115383     12     44  0.272727\n",
       "1              3   123580      2     11  0.181818\n",
       "2              0     4944      8     41  0.195122\n",
       "3              0     4504      5     15  0.333333\n",
       "4              0   121508      6     25  0.240000\n",
       "...          ...      ...    ...    ...       ...\n",
       "19917          3    13781     10     27  0.370370\n",
       "19918          3   130651     18     98  0.183673\n",
       "19919          0     3681      7     55  0.127273\n",
       "19920          3   122008      5     41  0.121951\n",
       "19921          3   122190     19     65  0.292308\n",
       "\n",
       "[19922 rows x 5 columns]"
      ]
     },
     "execution_count": 4,
     "metadata": {},
     "output_type": "execute_result"
    }
   ],
   "source": [
    "df"
   ]
  },
  {
   "cell_type": "code",
   "execution_count": 5,
   "id": "6457fcb2-fae7-46df-a019-d635beba2852",
   "metadata": {},
   "outputs": [],
   "source": [
    "# Считатем оющий ctr  в котнрольной группе.\n",
    "control_ctr = df[df.exp_group == 0].likes.sum() / df[df.exp_group == 0].views.sum() "
   ]
  },
  {
   "cell_type": "code",
   "execution_count": 10,
   "id": "89d018e0-a294-468b-990c-1e6fe591f9c3",
   "metadata": {},
   "outputs": [],
   "source": [
    "# Создаем колонку с линеаризированной метрикой.\n",
    "df['linearized_likes'] = df.likes - control_ctr * df.views"
   ]
  },
  {
   "cell_type": "code",
   "execution_count": 12,
   "id": "a83d24a9-cade-4d98-8c4f-4c324520715f",
   "metadata": {},
   "outputs": [
    {
     "data": {
      "image/png": "[encoded data removed]",
      "text/plain": [
       "<Figure size 842.4x595.44 with 1 Axes>"
      ]
     },
     "metadata": {},
     "output_type": "display_data"
    }
   ],
   "source": [
    "# Сделаем визуализацию.\n",
    "sns.set(rc={'figure.figsize':(11.7,8.27)})\n",
    "\n",
    "groups = sns.histplot(data = df, \n",
    "              x='linearized_likes', \n",
    "              hue='exp_group', \n",
    "              palette = ['r', 'b'],\n",
    "              alpha=0.5,\n",
    "              kde=False)"
   ]
  },
  {
   "cell_type": "code",
   "execution_count": 14,
   "id": "414d9423-7e2d-4dbd-b886-3d8bce823417",
   "metadata": {},
   "outputs": [
    {
     "data": {
      "text/plain": [
       "Ttest_indResult(statistic=-13.935320516755773, pvalue=6.216047483062228e-44)"
      ]
     },
     "execution_count": 14,
     "metadata": {},
     "output_type": "execute_result"
    }
   ],
   "source": [
    "# Проведем т-тест на обычных ctr.\n",
    "stats.ttest_ind(df[df.exp_group == 0].ctr, df[df.exp_group == 3].ctr, equal_var = False)"
   ]
  },
  {
   "cell_type": "code",
   "execution_count": 15,
   "id": "94bf5c22-2005-456c-ba5f-790374301f63",
   "metadata": {},
   "outputs": [
    {
     "data": {
      "text/plain": [
       "Ttest_indResult(statistic=-16.186230032932844, pvalue=1.4918137745326139e-58)"
      ]
     },
     "execution_count": 15,
     "metadata": {},
     "output_type": "execute_result"
    }
   ],
   "source": [
    "# Теперь проведем т-тест на линеаризованнык кликах.\n",
    "stats.ttest_ind(df[df.exp_group == 0].linearized_likes, df[df.exp_group == 3].linearized_likes, equal_var = False)"
   ]
  },
  {
   "cell_type": "markdown",
   "id": "94f795c4-87b6-4ea0-96dc-5b47794e539a",
   "metadata": {},
   "source": [
    "###### Линеаризированная метрика может заметить меньше изменение. Т.е. тест стал более чувствительным. Есть больше оснований отклонить нулевую гипотезу о равенстве распределений в контрольной и тестовой группах."
   ]
  },
  {
   "cell_type": "markdown",
   "id": "61b1296c-cefa-4bd2-a775-301db5d76aeb",
   "metadata": {},
   "source": [
    "###### Сравниеваем группы 1 и 2."
   ]
  },
  {
   "cell_type": "code",
   "execution_count": 16,
   "id": "cecf191c-16fb-4a7f-b198-0b04ae3c46ed",
   "metadata": {},
   "outputs": [],
   "source": [
    "# Выгружаем данные из БД.\n",
    "q = '''\n",
    "select  exp_group, \n",
    "    user_id,\n",
    "    sum(action = 'like') as likes,\n",
    "    sum(action = 'view') as views,\n",
    "    likes/views as ctr\n",
    "from {db}.feed_actions\n",
    "where toDate(time) >= '2023-11-18' and toDate(time) <= '2023-11-24' and  exp_group in (1,2)\n",
    "GROUP BY exp_group, user_id\n",
    "'''\n",
    "df_2 = ph.read_clickhouse(q, connection=connection)"
   ]
  },
  {
   "cell_type": "code",
   "execution_count": 17,
   "id": "e98870eb-34d1-49d8-b939-e1e66e583614",
   "metadata": {},
   "outputs": [
    {
     "data": {
      "text/html": [
       "<div>\n",
       "<style scoped>\n",
       "    .dataframe tbody tr th:only-of-type {\n",
       "        vertical-align: middle;\n",
       "    }\n",
       "\n",
       "    .dataframe tbody tr th {\n",
       "        vertical-align: top;\n",
       "    }\n",
       "\n",
       "    .dataframe thead th {\n",
       "        text-align: right;\n",
       "    }\n",
       "</style>\n",
       "<table border=\"1\" class=\"dataframe\">\n",
       "  <thead>\n",
       "    <tr style=\"text-align: right;\">\n",
       "      <th></th>\n",
       "      <th>exp_group</th>\n",
       "      <th>user_id</th>\n",
       "      <th>likes</th>\n",
       "      <th>views</th>\n",
       "      <th>ctr</th>\n",
       "    </tr>\n",
       "  </thead>\n",
       "  <tbody>\n",
       "    <tr>\n",
       "      <th>0</th>\n",
       "      <td>1</td>\n",
       "      <td>109963</td>\n",
       "      <td>3</td>\n",
       "      <td>15</td>\n",
       "      <td>0.200000</td>\n",
       "    </tr>\n",
       "    <tr>\n",
       "      <th>1</th>\n",
       "      <td>1</td>\n",
       "      <td>26117</td>\n",
       "      <td>32</td>\n",
       "      <td>141</td>\n",
       "      <td>0.226950</td>\n",
       "    </tr>\n",
       "    <tr>\n",
       "      <th>2</th>\n",
       "      <td>1</td>\n",
       "      <td>138232</td>\n",
       "      <td>18</td>\n",
       "      <td>73</td>\n",
       "      <td>0.246575</td>\n",
       "    </tr>\n",
       "    <tr>\n",
       "      <th>3</th>\n",
       "      <td>1</td>\n",
       "      <td>18392</td>\n",
       "      <td>7</td>\n",
       "      <td>32</td>\n",
       "      <td>0.218750</td>\n",
       "    </tr>\n",
       "    <tr>\n",
       "      <th>4</th>\n",
       "      <td>1</td>\n",
       "      <td>26295</td>\n",
       "      <td>39</td>\n",
       "      <td>141</td>\n",
       "      <td>0.276596</td>\n",
       "    </tr>\n",
       "    <tr>\n",
       "      <th>...</th>\n",
       "      <td>...</td>\n",
       "      <td>...</td>\n",
       "      <td>...</td>\n",
       "      <td>...</td>\n",
       "      <td>...</td>\n",
       "    </tr>\n",
       "    <tr>\n",
       "      <th>19892</th>\n",
       "      <td>2</td>\n",
       "      <td>17146</td>\n",
       "      <td>0</td>\n",
       "      <td>10</td>\n",
       "      <td>0.000000</td>\n",
       "    </tr>\n",
       "    <tr>\n",
       "      <th>19893</th>\n",
       "      <td>1</td>\n",
       "      <td>30872</td>\n",
       "      <td>11</td>\n",
       "      <td>59</td>\n",
       "      <td>0.186441</td>\n",
       "    </tr>\n",
       "    <tr>\n",
       "      <th>19894</th>\n",
       "      <td>2</td>\n",
       "      <td>25383</td>\n",
       "      <td>42</td>\n",
       "      <td>127</td>\n",
       "      <td>0.330709</td>\n",
       "    </tr>\n",
       "    <tr>\n",
       "      <th>19895</th>\n",
       "      <td>2</td>\n",
       "      <td>139020</td>\n",
       "      <td>17</td>\n",
       "      <td>41</td>\n",
       "      <td>0.414634</td>\n",
       "    </tr>\n",
       "    <tr>\n",
       "      <th>19896</th>\n",
       "      <td>2</td>\n",
       "      <td>17310</td>\n",
       "      <td>9</td>\n",
       "      <td>82</td>\n",
       "      <td>0.109756</td>\n",
       "    </tr>\n",
       "  </tbody>\n",
       "</table>\n",
       "<p>19897 rows × 5 columns</p>\n",
       "</div>"
      ],
      "text/plain": [
       "       exp_group  user_id  likes  views       ctr\n",
       "0              1   109963      3     15  0.200000\n",
       "1              1    26117     32    141  0.226950\n",
       "2              1   138232     18     73  0.246575\n",
       "3              1    18392      7     32  0.218750\n",
       "4              1    26295     39    141  0.276596\n",
       "...          ...      ...    ...    ...       ...\n",
       "19892          2    17146      0     10  0.000000\n",
       "19893          1    30872     11     59  0.186441\n",
       "19894          2    25383     42    127  0.330709\n",
       "19895          2   139020     17     41  0.414634\n",
       "19896          2    17310      9     82  0.109756\n",
       "\n",
       "[19897 rows x 5 columns]"
      ]
     },
     "execution_count": 17,
     "metadata": {},
     "output_type": "execute_result"
    }
   ],
   "source": [
    "df_2"
   ]
  },
  {
   "cell_type": "code",
   "execution_count": 19,
   "id": "efe26128-9ec8-4f27-895d-eb209525995f",
   "metadata": {},
   "outputs": [],
   "source": [
    "# Считатем оющий ctr  в котнрольной группе.\n",
    "control_ctr_2 = df_2[df_2.exp_group == 1].likes.sum() / df_2[df_2.exp_group == 1].views.sum() "
   ]
  },
  {
   "cell_type": "code",
   "execution_count": 21,
   "id": "145a4b79-09d2-45e4-88e8-93073e6bc8b2",
   "metadata": {},
   "outputs": [],
   "source": [
    "# Создаем колонку с линеаризированной метрикой.\n",
    "df_2['linearized_likes'] = df_2.likes - control_ctr_2 * df_2.views"
   ]
  },
  {
   "cell_type": "code",
   "execution_count": 22,
   "id": "8eddb531-1cc7-4e8f-b0cb-64418bbe3758",
   "metadata": {},
   "outputs": [
    {
     "data": {
      "image/png": "[encoded data removed]",
      "text/plain": [
       "<Figure size 842.4x595.44 with 1 Axes>"
      ]
     },
     "metadata": {},
     "output_type": "display_data"
    }
   ],
   "source": [
    "# Сделаем визуализацию.\n",
    "sns.set(rc={'figure.figsize':(11.7,8.27)})\n",
    "\n",
    "groups = sns.histplot(data = df_2, \n",
    "              x='linearized_likes', \n",
    "              hue='exp_group', \n",
    "              palette = ['r', 'b'],\n",
    "              alpha=0.5,\n",
    "              kde=False)"
   ]
  },
  {
   "cell_type": "code",
   "execution_count": 23,
   "id": "73cbf6b7-4fc6-45a5-a131-883e3073d278",
   "metadata": {},
   "outputs": [
    {
     "data": {
      "text/plain": [
       "Ttest_indResult(statistic=0.4051491913112757, pvalue=0.685373331140751)"
      ]
     },
     "execution_count": 23,
     "metadata": {},
     "output_type": "execute_result"
    }
   ],
   "source": [
    "# Проведем т-тест на обычных ctr.\n",
    "stats.ttest_ind(df_2[df_2.exp_group == 1].ctr, df_2[df_2.exp_group == 2].ctr, equal_var = False)"
   ]
  },
  {
   "cell_type": "code",
   "execution_count": 24,
   "id": "928762f1-54f9-4596-9cb3-2f13c7cc3076",
   "metadata": {},
   "outputs": [
    {
     "data": {
      "text/plain": [
       "Ttest_indResult(statistic=5.93637710193448, pvalue=2.980506403866817e-09)"
      ]
     },
     "execution_count": 24,
     "metadata": {},
     "output_type": "execute_result"
    }
   ],
   "source": [
    "# Теперь проведем т-тест на линеаризованнык кликах.\n",
    "stats.ttest_ind(df_2[df_2.exp_group == 1].linearized_likes, df_2[df_2.exp_group == 2].linearized_likes, equal_var = False)"
   ]
  },
  {
   "cell_type": "markdown",
   "id": "4375953c-3d96-421c-af1f-3494ff4a6a11",
   "metadata": {},
   "source": [
    "###### Сравнение обычных ctr не дает оснований отклонить нулевую гипотезу. Однако линеаризированная метрика показывает основания ее отклонить."
   ]
  },
  {
   "cell_type": "code",
   "execution_count": null,
   "id": "f47ba6c6-8bc2-4edb-85c8-e23b442964f7",
   "metadata": {},
   "outputs": [],
   "source": []
  }
 ],
 "metadata": {
  "kernelspec": {
   "display_name": "Python 3 (ipykernel)",
   "language": "python",
   "name": "python3"
  },
  "language_info": {
   "codemirror_mode": {
    "name": "ipython",
    "version": 3
   },
   "file_extension": ".py",
   "mimetype": "text/x-python",
   "name": "python",
   "nbconvert_exporter": "python",
   "pygments_lexer": "ipython3",
   "version": "3.8.10"
  }
 },
 "nbformat": 4,
 "nbformat_minor": 5
}
